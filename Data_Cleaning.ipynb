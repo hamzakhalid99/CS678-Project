{
  "nbformat": 4,
  "nbformat_minor": 0,
  "metadata": {
    "colab": {
      "name": "Data Cleaning.ipynb",
      "provenance": [],
      "authorship_tag": "ABX9TyOnG9R+iewkrFsPXIv8EIuY",
      "include_colab_link": true
    },
    "kernelspec": {
      "name": "python3",
      "display_name": "Python 3"
    }
  },
  "cells": [
    {
      "cell_type": "markdown",
      "metadata": {
        "id": "view-in-github",
        "colab_type": "text"
      },
      "source": [
        "<a href=\"https://colab.research.google.com/github/hamzakhalid99/CS678-Project/blob/main/Data_Cleaning.ipynb\" target=\"_parent\"><img src=\"https://colab.research.google.com/assets/colab-badge.svg\" alt=\"Open In Colab\"/></a>"
      ]
    },
    {
      "cell_type": "markdown",
      "metadata": {
        "id": "i4og_Yf2s9Jb"
      },
      "source": [
        "### Link to drive"
      ]
    },
    {
      "cell_type": "code",
      "metadata": {
        "id": "lbcvi7g4Wrs7",
        "colab": {
          "base_uri": "https://localhost:8080/"
        },
        "outputId": "408c0c27-3b9c-416a-8914-f4af2e408ec7"
      },
      "source": [
        "from google.colab import drive\r\n",
        "drive.mount('/content/drive', force_remount=True)"
      ],
      "execution_count": null,
      "outputs": [
        {
          "output_type": "stream",
          "text": [
            "Mounted at /content/drive\n"
          ],
          "name": "stdout"
        }
      ]
    },
    {
      "cell_type": "markdown",
      "metadata": {
        "id": "MrGiGWCFs2fn"
      },
      "source": [
        "### Select folder\r\n",
        "\r\n"
      ]
    },
    {
      "cell_type": "code",
      "metadata": {
        "colab": {
          "base_uri": "https://localhost:8080/"
        },
        "id": "bouVAOacswlD",
        "outputId": "02c1ba10-16e1-4fd6-c03b-61f808800d8f"
      },
      "source": [
        "cd drive/MyDrive/CS678-Project"
      ],
      "execution_count": null,
      "outputs": [
        {
          "output_type": "stream",
          "text": [
            "/content/drive/MyDrive/CS678-Project\n"
          ],
          "name": "stdout"
        }
      ]
    },
    {
      "cell_type": "markdown",
      "metadata": {
        "id": "pfpV0OtvtEvC"
      },
      "source": [
        "# DATA CLEANING"
      ]
    },
    {
      "cell_type": "code",
      "metadata": {
        "id": "5zABvg9stEYr"
      },
      "source": [
        ""
      ],
      "execution_count": null,
      "outputs": []
    },
    {
      "cell_type": "code",
      "metadata": {
        "id": "77v1w8B7sxaS"
      },
      "source": [
        ""
      ],
      "execution_count": null,
      "outputs": []
    }
  ]
}